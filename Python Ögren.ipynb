{
 "cells": [
  {
   "cell_type": "markdown",
   "id": "4766caeb-2f81-4624-887b-9776d645ea85",
   "metadata": {
    "jp-MarkdownHeadingCollapsed": true
   },
   "source": [
    "# Yazarlar\n",
    "\n",
    "## Ege Altay\n",
    "\n",
    "\n",
    "# Telif Hakkı\n",
    "\n",
    "# ----------"
   ]
  },
  {
   "cell_type": "markdown",
   "id": "beca82fd-f153-499b-b1ba-f9be4001f4c0",
   "metadata": {},
   "source": [
    "# Python nedir?"
   ]
  },
  {
   "cell_type": "markdown",
   "id": "d219bcc2-acc2-42c8-8713-341613c75dae",
   "metadata": {},
   "source": [
    "Python nesne yönelimli, açık kaynak kodlu  çok amaçlı bir programlama dilidir. Yaratıcısı Guido van Rossum'dur. Kullanım amacına yönelik birçok kütüphanesi (library) bulunmaktadır. Birçok işletme tarafından tercih edilmektedir. Neredeyse her türlü işletim sisteminde çalışabilir. Örneğin:\n",
    "\n",
    "- Windows\n",
    "- Linux\n",
    "- MacOS\n",
    "\n",
    "Öğrenmesi diğer dilleri göre daha kolaydır. İlk defa programlama dili öğrenmek istiyorsanız idealdır.\n"
   ]
  },
  {
   "cell_type": "markdown",
   "id": "c984cbc5-08fc-42f5-a7e1-69b8c1d02509",
   "metadata": {},
   "source": [
    "* Python'ın resmi web sitesi: [https://www.python.org/](https://www.python.org/)"
   ]
  },
  {
   "cell_type": "markdown",
   "id": "f1c35cc7-0a76-4a26-ab50-b26ac4bd9f38",
   "metadata": {},
   "source": [
    "## Bazı python kütüphaneleri\n",
    "\n",
    "### Web tasarımı\n",
    "- Django\n",
    "- Flask\n",
    "\n",
    "### Matematik kütüphaneleri\n",
    "- Matplotlib\n",
    "- numpy\n",
    "- SciPy\n",
    "\n",
    "### Yapay zeka kütüphaneleri\n",
    "- PyTorch\n",
    "- Tensorflow\n",
    "- Scikit-learn\n",
    "\n",
    "### Veri tabanı kütüphaneleri\n",
    "- Pandas\n",
    "- SQLAlchemy\n",
    "\n",
    "### Oyun kütüphaneleri\n",
    "- PyGame\n",
    "\n",
    "### Web'den veri toplama (Web scraping/Web crawling) kütüphaneleri\n",
    "- Scrapy\n",
    "- BeautifulSoup\n",
    "\n",
    "### Web otomasyon ve test kütüphaneleri\n",
    "- Selenium\n",
    "\n",
    "\n",
    "### Resim düzenleme ve manipülasyonu\n",
    "- Pillow\n"
   ]
  },
  {
   "cell_type": "markdown",
   "id": "67c76bfd-e21a-4887-843a-b0747e275c5d",
   "metadata": {},
   "source": [
    "* Bir gelenek olarak aşağıdaki kodu çalıştırarak başlayalım"
   ]
  },
  {
   "cell_type": "code",
   "execution_count": 1,
   "id": "47f9eaad-84a9-40dd-a8eb-8e04d9081394",
   "metadata": {},
   "outputs": [
    {
     "name": "stdout",
     "output_type": "stream",
     "text": [
      "Merhaba Dünya!\n"
     ]
    }
   ],
   "source": [
    "print(\"Merhaba Dünya!\")"
   ]
  },
  {
   "cell_type": "markdown",
   "id": "6f400042-761a-48f3-ae1c-f3243c19d321",
   "metadata": {},
   "source": [
    "# Pythondaki Basit Veri Tipleri"
   ]
  },
  {
   "cell_type": "markdown",
   "id": "5539d21e-0ed2-4fe6-82ba-533de4cbf408",
   "metadata": {},
   "source": [
    " Her programlama dilinde olduğu gibi python'da da bazı veri tipleri bulunmaktadır. Veri tipi dediğimiz şey belirli türdeki sayı, yazı, Liste gibi değerlerdir. Merak etmeyin bunlara sıklıkla değineceğiz. Bu verileri değişken dediğimiz şeylere atarız."
   ]
  },
  {
   "cell_type": "markdown",
   "id": "b857862f-083f-4350-809e-266ef0073ec8",
   "metadata": {},
   "source": [
    "* Önemli NOT: değişken isimleri boşluk içeremez ve bir sayıyla başlaymaz. Bu değişkenleri adlandırırken türkçe karakter kullanmamaya çalışmayız. Çünkü kod bizim bilgisayarımızda çalışsa bile diğer bilgisayarlarda çalışmayabilir.\n",
    "\n",
    "#### Hatalı isimlendirme örnekleri\n",
    "\n",
    "benim adim= \"Ege\"    (Boşluk karakter kullanımı)\n",
    "\n",
    "yaş = 24    (Türkçe karakter kullanımı)\n",
    "\n",
    "1metre_kac_cm = 100    (Değişken adı sayıyla başlayamaz)\n",
    "\n",
    "#### Doğru isimlendirme örnekleri\n",
    "\n",
    "benim_adim= \"Ege\"\n",
    "\n",
    "yas = 24\n",
    "\n",
    "bir_metre_kac_cm = 100\n"
   ]
  },
  {
   "cell_type": "markdown",
   "id": "3c76cba3-eefc-4f35-a239-f14d23be8bd1",
   "metadata": {},
   "source": [
    "|Veri tipi |Kısaltması ya da tam adı |\n",
    "----------|----------\n",
    "| Tam sayı | int |\n",
    "| Ondalık sayı | float |\n",
    "| Doğru/Yanlış | bool |\n",
    "| Metin | str |\n",
    "| Liste | list |\n",
    "| Küme | set |\n",
    "| Sözlük | dict |"
   ]
  },
  {
   "cell_type": "markdown",
   "id": "68716ec3-2a28-4f67-8fc2-1c0b010c992e",
   "metadata": {},
   "source": [
    "## Tam sayılar (intiger / int)\n",
    "\n",
    "İlk veri tipimiz intiger (int) dediğimiz tam sayılar olacak. Bu veri tiplerini değişken dediğimiz şeylere atayacağız. Bunu yapmak için şu formulü izleyeceğiz. \n",
    "\n",
    "- DEĞİŞKEN_ADI = VERİ_DEĞERİ\n",
    "\n",
    "Bunu yaparken de print dediğimiz bir fonksiyonu kullanarak bunu ekrana yazdıracağız. Bu işleme çoka takılmayın ileride bunu detaylandıracağız Hadi hızlıca aşağıdaki örneğe geçelim.\n"
   ]
  },
  {
   "cell_type": "code",
   "execution_count": 2,
   "id": "595c8843-6ece-49f3-b701-a131362ec005",
   "metadata": {},
   "outputs": [
    {
     "name": "stdout",
     "output_type": "stream",
     "text": [
      "Yaşım: 24\n",
      "Sınıfta kaç kişi var: 10\n",
      "Türkiye nüfusu: 85500000\n"
     ]
    }
   ],
   "source": [
    "yas = 24\n",
    "print(\"Yaşım:\",yas)\n",
    "\n",
    "\n",
    "siniftaki_kisi_sayisi = 10\n",
    "print(\"Sınıfta kaç kişi var:\",siniftaki_kisi_sayisi)\n",
    "\n",
    "turkiye_nufusu = 85500000\n",
    "print(\"Türkiye nüfusu:\",turkiye_nufusu)"
   ]
  },
  {
   "cell_type": "markdown",
   "id": "987ab6f1-596d-4e3a-adfa-46c4edfe4092",
   "metadata": {},
   "source": [
    "Gördüğünüz üzere bu sayılar adında geçtiği gibi tam sayı olmak zorunda virgüllü olamazlar. Fakat bazen bu sayılar büyük olunca ayırmak içine arasına \"_\" bu işareti ekleyebiliriz. Tıpkı bazı büyük sayıları yazarken 3 basamak sonra \".\" koymak gibi. Örneğin 85.500.000 böylece bu sayıları okumak daha kolay olur."
   ]
  },
  {
   "cell_type": "code",
   "execution_count": 3,
   "id": "8efd0568-dc11-43e1-9234-43d85c479577",
   "metadata": {},
   "outputs": [
    {
     "name": "stdout",
     "output_type": "stream",
     "text": [
      "Türkiye nüfusu: 85500000\n"
     ]
    }
   ],
   "source": [
    "turkiye_nufusu = 85_500_000\n",
    "print(\"Türkiye nüfusu:\",turkiye_nufusu)"
   ]
  },
  {
   "cell_type": "markdown",
   "id": "cf18154c-79b2-4618-9096-64cdefe05c29",
   "metadata": {},
   "source": [
    "## Ondalık sayılar (float)\n",
    "\n",
    "Diğer veri tipimiz float dediğimiz ondalık sayılar olacak. Bu veri tiplerini değişken dediğimiz şeylere atayacağız. Bunu yapmak için şu formulü izleyeceğiz. \n",
    "\n",
    "- DEĞİŞKEN_ADI = VERİ_DEĞERİ\n",
    "\n",
    "Verinin değeri içinde \".\" olmak zorundadır.\n"
   ]
  },
  {
   "cell_type": "code",
   "execution_count": 4,
   "id": "d4858b8f-8cdf-4c98-b8a8-9cecdc8f1e44",
   "metadata": {},
   "outputs": [
    {
     "name": "stdout",
     "output_type": "stream",
     "text": [
      "Pi sayısı: 3.141592\n",
      "Metre cinsinden boy uzunluğum: 1.85\n",
      "Deneme değeri: 2.0\n"
     ]
    }
   ],
   "source": [
    "pi_sayisi = 3.141592\n",
    "print(\"Pi sayısı:\",pi_sayisi)\n",
    "\n",
    "boyum_kac_metre = 1.85\n",
    "print(\"Metre cinsinden boy uzunluğum:\",boyum_kac_metre)\n",
    "\n",
    "\n",
    "deneme_degeri = 2.0\n",
    "print(\"Deneme değeri:\",deneme_degeri)"
   ]
  },
  {
   "cell_type": "markdown",
   "id": "57f695ee-8246-45b7-a3a5-a34c0f10797e",
   "metadata": {},
   "source": [
    "Yukarıdaki örnekte gördüğünüz gibi bazı tam sayıları da ondalık sayı olarak ifade edebiliyoruz. Örneğin 4 yazarsak tam sayı 4.0 yazarsak ondalık sayı oluyor."
   ]
  },
  {
   "cell_type": "markdown",
   "id": "f2a8e9b2-f930-4265-acb7-1722a4e5ce98",
   "metadata": {},
   "source": [
    "## Metin (string / str)\n",
    "\n",
    "Diğer bir veri tipimiz string (str) dediğimiz metin verisi olacak. Formülü tam sayılar gibi ama bu sefer metninönüne ve başına çift tırnak veya tek tırnak işareti ekliyoruz.\n",
    "\n",
    "- DEĞİŞKEN_ADI = \"METİN\""
   ]
  },
  {
   "cell_type": "code",
   "execution_count": 5,
   "id": "7474f110-beeb-4324-8a84-39be3d2fd53a",
   "metadata": {},
   "outputs": [
    {
     "name": "stdout",
     "output_type": "stream",
     "text": [
      "İsim: Ege\n",
      "En sevdiği renk: mavi\n",
      "Soyad: Altay\n"
     ]
    }
   ],
   "source": [
    "isim = \"Ege\"\n",
    "print(\"İsim:\",isim)\n",
    "\n",
    "\n",
    "en_sevdigi_renk = \"mavi\"\n",
    "print(\"En sevdiği renk:\",en_sevdigi_renk)\n",
    "\n",
    "soyad = 'Altay'\n",
    "print(\"Soyad:\",soyad)"
   ]
  },
  {
   "cell_type": "markdown",
   "id": "d335dc4f-1324-47cc-a366-6e9c39aa80c2",
   "metadata": {},
   "source": [
    "## Boolean değerler (bool)\n",
    "\n",
    "Bool dediğimiz değerler doğru veya yanlış ifadelerdir. Merak etmeyin bunun da bir kullanım alanı var. True ingilizce doğru, False ise yanlış demektir.\n",
    "\n",
    "- DEĞİŞKEN_ADI = True\n",
    "- DEĞİŞKEN_ADI = False\n",
    "\n",
    "Operatörler konusunda bu değere tekrar değineceğiz"
   ]
  },
  {
   "cell_type": "code",
   "execution_count": 6,
   "id": "a2bc2094-247d-4d1d-b289-fb1973d56a41",
   "metadata": {},
   "outputs": [
    {
     "name": "stdout",
     "output_type": "stream",
     "text": [
      "Işık açık mı? True\n",
      "Kapı kapalı mı? False\n"
     ]
    }
   ],
   "source": [
    "isik_acik_mi = True\n",
    "print(\"Işık açık mı?\",isik_acik_mi)\n",
    "\n",
    "kapi_kapali_mi = False\n",
    "print(\"Kapı kapalı mı?\",kapi_kapali_mi)"
   ]
  },
  {
   "cell_type": "markdown",
   "id": "867e92a8-247f-45ec-bfdb-2e47d3dcbb05",
   "metadata": {},
   "source": [
    "* Aynı zamanda \"1\" sayısı bazı durumlarda \"True\" değerine tekabül etmketedir. Aynı şekilde de \"0\" sayısı da bazı durumlarda \"False\" değerine tekabül etmketedir."
   ]
  },
  {
   "cell_type": "markdown",
   "id": "5d14a000-4985-4a9d-a452-c2e3c3af0211",
   "metadata": {},
   "source": [
    "# Aritmetik Operatörler (İşleçler)\n",
    "\n",
    "Aslında bu bölüm oldukça basit. Aritmetik işlemleri ve bir çok işlemi daha bu operatörler aracılığıyla yapıyoruz.\n",
    "\n",
    "|Operatör |İşlevi |\n",
    "----------|----------\n",
    "| + | Toplama |\n",
    "| - | Çıkarma |\n",
    "| * | Çarpma |\n",
    "| / | Bölme |\n",
    "| % | Mod alma |\n",
    "| ** | Kuvvet alma |\n",
    "| // | Tam bölme (Ondalık kısmı atarak bölme) |\n",
    "\n",
    "Aşağıda örnekleri bulabilirsiniz"
   ]
  },
  {
   "cell_type": "code",
   "execution_count": 7,
   "id": "6b6f1a64-1738-468b-bd73-13b987d6e76b",
   "metadata": {},
   "outputs": [
    {
     "name": "stdout",
     "output_type": "stream",
     "text": [
      "X'in ilk değeri: 2\n",
      "X'in 2 ile çarpımı: 4\n",
      "Y'in ilk değeri: 4\n",
      "Y'nin 4'e bölümü: 4.0\n"
     ]
    }
   ],
   "source": [
    "x = 2\n",
    "print(\"X'in ilk değeri:\",x)\n",
    "\n",
    "x = x*2\n",
    "print(\"X'in 2 ile çarpımı:\",x)\n",
    "\n",
    "y = 16\n",
    "print(\"Y'in ilk değeri:\",x)\n",
    "\n",
    "y = y / 4\n",
    "print(\"Y'nin 4'e bölümü:\",y)\n"
   ]
  },
  {
   "cell_type": "markdown",
   "id": "862e45e7-1e2a-46ba-914b-ec442604a819",
   "metadata": {},
   "source": [
    "* Önemli Not: Bir değişkenin değerini tanımladıktan sonra; örneğin z=4 diyelim, z= z/4 yazdığınızda z'nin değerini kalıcı olarak değiştirirsiniz."
   ]
  },
  {
   "cell_type": "code",
   "execution_count": 8,
   "id": "3909c941-24a6-4892-807f-86127fba654a",
   "metadata": {},
   "outputs": [
    {
     "name": "stdout",
     "output_type": "stream",
     "text": [
      "İlk değer: 16\n",
      "4'le modu: 0\n",
      "İkinci kuvveti: 256\n",
      "5'le tam bölümü: 3\n"
     ]
    }
   ],
   "source": [
    "y = 16\n",
    "print(\"İlk değer:\", y)\n",
    "\n",
    "print(\"4'le modu:\", y%4)\n",
    "\n",
    "print(\"İkinci kuvveti:\", y**2)\n",
    "\n",
    "print(\"5'le tam bölümü:\", y//5)"
   ]
  },
  {
   "cell_type": "code",
   "execution_count": 9,
   "id": "fb07ddc5-4cb6-4019-b208-74c31da30a58",
   "metadata": {},
   "outputs": [
    {
     "name": "stdout",
     "output_type": "stream",
     "text": [
      "1. sayı= 12.6\n",
      "1. sayı= 3.15\n",
      "İki sayının bölümü: 4.0\n"
     ]
    }
   ],
   "source": [
    "sayi_bir = 12.6\n",
    "print(\"1. sayı=\", sayi_bir)\n",
    "\n",
    "sayi_iki = 3.15\n",
    "print(\"1. sayı=\", sayi_iki)\n",
    "\n",
    "print(\"İki sayının bölümü:\", sayi_bir/sayi_iki)"
   ]
  },
  {
   "cell_type": "markdown",
   "id": "7352ba63-3876-43a5-a13d-3a986aad10da",
   "metadata": {},
   "source": [
    "## String değerleriyle bazı işlemler"
   ]
  },
  {
   "cell_type": "code",
   "execution_count": 10,
   "id": "1d1d91a2-6170-4a0c-9fe9-30c2489f64e7",
   "metadata": {},
   "outputs": [
    {
     "name": "stdout",
     "output_type": "stream",
     "text": [
      "Merhaba Ege\n",
      "sınıfımızdaki kişi sayısı:15\n"
     ]
    }
   ],
   "source": [
    "selamlama = \"Merhaba \"\n",
    "isim = \"Ege\"\n",
    "\n",
    "metin = selamlama + isim\n",
    "\n",
    "print(metin)\n",
    "\n",
    "giris = \"sınıfımızdaki kişi sayısı:\"\n",
    "sayi = \"15\"\n",
    "\n",
    "print(giris+sayi)"
   ]
  },
  {
   "cell_type": "markdown",
   "id": "cdd9ed6b-44b3-4f66-a505-bbe6228deabc",
   "metadata": {},
   "source": [
    "+ \"+\" işareti iki string'i birbiri ile toplar\n",
    "\n",
    "+ Üstteki \"sayi\" değişkeni aslında bir string. Çift tırnak işaretleri arasında olduğuna dikkat edin."
   ]
  },
  {
   "cell_type": "code",
   "execution_count": 11,
   "id": "5809fe35-a9c2-43ef-8a4c-a007bdbc2510",
   "metadata": {},
   "outputs": [
    {
     "name": "stdout",
     "output_type": "stream",
     "text": [
      "metin1= AAAAAA\n",
      "metin2= ABCABC\n"
     ]
    }
   ],
   "source": [
    "metin1 = \"A\"\n",
    "metin1 = metin1 * 6\n",
    "\n",
    "print(\"metin1=\", metin1)\n",
    "\n",
    "metin2 = \"ABC\"\n",
    "metin2 = metin2*2\n",
    "\n",
    "print(\"metin2=\", metin2)"
   ]
  },
  {
   "cell_type": "markdown",
   "id": "d89eeae1-7922-4527-9100-19d2dce231fe",
   "metadata": {},
   "source": [
    "+ \"*\" işareti iki string'i o sayıda yineler."
   ]
  },
  {
   "cell_type": "markdown",
   "id": "e6e455ac-fdb3-45aa-980b-172b86c5d8da",
   "metadata": {},
   "source": [
    "# Yorum satırları (Comment Lines)\n",
    "\n",
    "Yorum satırları şu ifadeyle başlar #\n",
    "bu ifadenin sağ yanına yazılan kelimeler işleme alınmaz. Bunlara yorum satırları denir"
   ]
  },
  {
   "cell_type": "code",
   "execution_count": 12,
   "id": "d98b2a02-2770-483d-986d-ba12a271aedf",
   "metadata": {},
   "outputs": [
    {
     "name": "stdout",
     "output_type": "stream",
     "text": [
      "12\n"
     ]
    }
   ],
   "source": [
    "# Örnek 1\n",
    "sayim = 12\n",
    "# ege = 13\n",
    "print(sayim)"
   ]
  },
  {
   "cell_type": "markdown",
   "id": "0a6d8bca-f1a2-4381-bbab-b9b12ae41b99",
   "metadata": {},
   "source": [
    "## Bazı anlamsız operatör kullanımları:"
   ]
  },
  {
   "cell_type": "markdown",
   "id": "1b845c13-d191-4087-9a47-096d315d6dae",
   "metadata": {},
   "source": [
    "ad = \"Ege\"\n",
    "soyad = \"Altay\"\n",
    "\n",
    "print(ad/soyad)"
   ]
  },
  {
   "cell_type": "markdown",
   "id": "3bc69635-1f4b-41a8-acee-093c18594b58",
   "metadata": {},
   "source": [
    "Bir metni diğer bir metine bölemezsiniz. Kod hata verir. Aynı şekilde bir metni de sayıya bölemezsiniz. "
   ]
  },
  {
   "cell_type": "markdown",
   "id": "759a5403-184e-4288-84b9-083a0784a5ad",
   "metadata": {},
   "source": [
    "siniftaki_kisi = \"12\"\n",
    "erkek_orani = 0.6\n",
    "\n",
    "print(\"Sınıftaki erkek sayisi:\")\n",
    "print(siniftaki_kisi*erkek_orani)"
   ]
  },
  {
   "cell_type": "markdown",
   "id": "54cc9e8c-29d1-402f-ab4b-58cf31de0437",
   "metadata": {},
   "source": [
    "### Kısa bir hatırlatma\n",
    "Bir sayının modu demek o sayının istenen sayıya bölümünden kalan demektir.\n",
    "Örneğin 16'nın 5 ile modunu bulmak için yani 16%5 için: 16 dan 5 tekrar tekrar çıakrılır.\n",
    "\n",
    "16-5 = 11\n",
    "\n",
    "11-5 = 6\n",
    "\n",
    "6-5 = 1\n",
    "\n",
    "Sonda 1 kaldığı için modu birdir.\n",
    "\n",
    "Diğer bir öreneğe bakarsak:\n",
    "\n",
    "16'nın 4 ile modu yani 16%4\n",
    "\n",
    "16-4 = 12\n",
    "\n",
    "12-4 = 8\n",
    "\n",
    "8-4 = 4 (4 ile mod aldığımız için sonuç 4'ten küçük olmalı)\n",
    "\n",
    "4-4 = 0\n",
    "\n",
    "Modu 0'dır."
   ]
  },
  {
   "cell_type": "markdown",
   "id": "486c9ad4-54e4-46ee-9a7f-05c1d82338bf",
   "metadata": {},
   "source": [
    "# Atama Operatörleri\n",
    "\n",
    "Aslında bu bölümde biraz daha karmaşık olan diğer operatörleri göreceğiz.\n",
    "\n",
    "|Operatör |İşlevi |\n",
    "----------|----------\n",
    "| += | Değişkene ekle |\n",
    "| -= | Değişkenden çıkar |\n",
    "| *= | Değişkeni çarp |\n",
    "| /= | Değişkeni böl |\n",
    "| %= | Değişkeni moduna eşitle|\n",
    "| **= | Değişkeninin kuvvetini al |\n",
    "| //= | Değişkeni tam bölümüne eşitle |\n",
    "\n",
    "\n",
    "Aşağıda örnekleri bulabilirsiniz"
   ]
  },
  {
   "cell_type": "code",
   "execution_count": 13,
   "id": "a0c61304-a066-48c9-a98f-a60804ad600b",
   "metadata": {},
   "outputs": [
    {
     "name": "stdout",
     "output_type": "stream",
     "text": [
      "a= 17\n",
      "b= 4\n",
      "c= 3.0\n",
      "d= 10\n",
      "e= 8\n"
     ]
    }
   ],
   "source": [
    "a = 12\n",
    "a += 5\n",
    "print(\"a=\",a)\n",
    "\n",
    "b = 5\n",
    "b -= 1\n",
    "print(\"b=\",b)\n",
    "\n",
    "c = 12\n",
    "c /= 4\n",
    "print(\"c=\",c)\n",
    "\n",
    "d = 2\n",
    "d *= 5\n",
    "print(\"d=\",d)\n",
    "\n",
    "e = 2\n",
    "e **= 3\n",
    "print(\"e=\",e)"
   ]
  },
  {
   "cell_type": "markdown",
   "id": "702d5511-3cc7-4634-a443-84b24de1645c",
   "metadata": {},
   "source": [
    "# Karşılaştırma Operatörleri\n",
    "\n",
    "|Operatör |İşlevi |\n",
    "----------|----------\n",
    "| == | Eşit mi |\n",
    "| != | Eşit değil mi |\n",
    "| > | Büyük mü |\n",
    "| < | Küçük mü |\n",
    "| >= | Büyük veya eşit mi |\n",
    "| <= | Küçük veya eşit mi |\n",
    "\n",
    "+ Hatırlarsanız boolean değerlerinden bahsetmiştik. Karşılaştırma ifadeleri bize bu değerleri verir. Dediğim gibi bunları doğru ve yanlış olarak düşünün. Bunların daha detaylı kullanımına ileride değineceğiz."
   ]
  },
  {
   "cell_type": "code",
   "execution_count": 14,
   "id": "aab1f401-ad6f-405e-b03f-2e5a675aa7e0",
   "metadata": {},
   "outputs": [
    {
     "name": "stdout",
     "output_type": "stream",
     "text": [
      "a b'ye eşit mi: True\n",
      "a c'ye eşit mi: False\n",
      "a c'den büyük mü: True\n",
      "a c'den küçük mü: False\n",
      "a c'ye eşit  değil mi: True\n",
      "a c'den küçük veya eşit mi: False\n",
      "a b'den küçük veya eşit mi: True\n"
     ]
    }
   ],
   "source": [
    "a = 12\n",
    "b = 12\n",
    "c = 4\n",
    "\n",
    "print(\"a b'ye eşit mi:\", a==b)\n",
    "print(\"a c'ye eşit mi:\", a==c)\n",
    "print(\"a c'den büyük mü:\", a>c)\n",
    "print(\"a c'den küçük mü:\", a<c)\n",
    "print(\"a c'ye eşit  değil mi:\" , a!=c)\n",
    "print(\"a c'den küçük veya eşit mi:\", a<=c)\n",
    "print(\"a b'den küçük veya eşit mi:\", a<=b)"
   ]
  },
  {
   "cell_type": "markdown",
   "id": "6b961af6-58f3-42e4-ba79-50270ecdf922",
   "metadata": {},
   "source": [
    "# Mantıksal Operatörler\n",
    "\n",
    "* Operatör listesi:\n",
    "  - and\n",
    "  - or\n",
    "  - not\n",
    "\n",
    "* kelime anlamı olarak:\n",
    "    - and = ve\n",
    "    - or = veya\n",
    "    - not = değil\n",
    "    - \n",
    "* anlamına gelmektedir.\n",
    "\n",
    "\n",
    "  \n",
    "|1. Değer| **and** | 2. Değer | *Sonuç* |\n",
    "----------|---------|------|------\n",
    "| True | **and** | True | =True |\n",
    "| True | **and** | False | =False |\n",
    "| False | **and** | False | =False |\n",
    "| False | **and** | True | =False |\n",
    "\n",
    "\n",
    "|1. Değer| **or** | 2. Değer | *Sonuç* |\n",
    "----------|---------|------|------\n",
    "| True | **or** | True | =True |\n",
    "| True | **or** | False | =True |\n",
    "| False | **or** | False | =False |\n",
    "| False | **or** | True | =True |\n",
    "\n",
    "* Örnek kullanım:\n",
    "\n",
    "deger_1 **and** deger_2 = sonuc\n",
    "\n",
    "deger_1 **or** deger_2 = sonuc\n",
    "\n",
    "| **not** operatörü | Değer | *Sonuç* |\n",
    "----------|-------|------\n",
    "| **not** | True | =False |\n",
    "| **not** | False | =True |\n",
    "\n",
    "* Örnek kullanım\n",
    "    - not deger_1 = sonuc\n",
    "    - not deger_2 = sonuc\n",
    "\n",
    "* \"!\" ifadesi de yani ünlem işareti de \"not\" operatörü yerine geçer.\n",
    "\n",
    "* Örnek kullanım\n",
    "    - !(deger_1) = sonuc\n",
    "    - !(deger_2) = sonuc"
   ]
  },
  {
   "cell_type": "code",
   "execution_count": 15,
   "id": "f7afa674-f4a8-4042-bb43-216e2ec41068",
   "metadata": {},
   "outputs": [
    {
     "name": "stdout",
     "output_type": "stream",
     "text": [
      "True\n",
      "True\n",
      "False\n",
      "False\n"
     ]
    }
   ],
   "source": [
    "print(True or False)\n",
    "print(False or True)\n",
    "print(False or False)\n",
    "print(True and False)"
   ]
  },
  {
   "cell_type": "code",
   "execution_count": 16,
   "id": "ba9c9965-c81a-4177-b97d-bc23ba690e21",
   "metadata": {},
   "outputs": [
    {
     "name": "stdout",
     "output_type": "stream",
     "text": [
      "False\n"
     ]
    }
   ],
   "source": [
    "print(not(True))"
   ]
  },
  {
   "cell_type": "code",
   "execution_count": 17,
   "id": "bedde97d-7377-4837-9c29-cb9361ce2f8c",
   "metadata": {},
   "outputs": [
    {
     "name": "stdout",
     "output_type": "stream",
     "text": [
      "True\n"
     ]
    }
   ],
   "source": [
    "print(not(False))"
   ]
  },
  {
   "cell_type": "markdown",
   "id": "fd14eda3-3d85-43f5-a87a-a459c20f06f0",
   "metadata": {},
   "source": [
    "* Bu ifadeler daha da dallanabilir ve yan yana eklenebilir. Yan yana eklerken işlem önceliği olan parantez içine alınır. Yani diğer bir deyişle parantez içindeki işlemin önceliği vardır."
   ]
  },
  {
   "cell_type": "code",
   "execution_count": 18,
   "id": "95c786a0-8c57-4ffb-99c8-078436b9323c",
   "metadata": {},
   "outputs": [
    {
     "name": "stdout",
     "output_type": "stream",
     "text": [
      "True\n"
     ]
    }
   ],
   "source": [
    "print(True and (False or True))"
   ]
  },
  {
   "cell_type": "markdown",
   "id": "3e7512ff-9282-4695-b630-564e648508f8",
   "metadata": {},
   "source": [
    "* Üstteki ifadeyi parçalarsak şöyle olur:\n",
    "    1. True and (False or True)\n",
    "    2. True and True\n",
    "    3. =True"
   ]
  },
  {
   "cell_type": "markdown",
   "id": "e3199853-2bcd-4445-848c-88da393ce3a2",
   "metadata": {},
   "source": [
    "* Diğer bir örneği ele alalım"
   ]
  },
  {
   "cell_type": "code",
   "execution_count": 19,
   "id": "0db1463e-1724-44f3-ad9d-5bd8f9e86d77",
   "metadata": {},
   "outputs": [
    {
     "name": "stdout",
     "output_type": "stream",
     "text": [
      "False\n"
     ]
    }
   ],
   "source": [
    "print(False or (True and False))"
   ]
  },
  {
   "cell_type": "markdown",
   "id": "893fffa9-9e73-4485-9f3b-a50d931be5a7",
   "metadata": {},
   "source": [
    "1. False or (True and False)\n",
    "2. False or False\n",
    "3. =False"
   ]
  },
  {
   "cell_type": "markdown",
   "id": "70ed2a8a-aac1-4b96-939d-8c43ba0a8886",
   "metadata": {},
   "source": [
    "#s If Else blokları (ise değilse blokları)\n",
    "\n",
    "* Genel kullanımı şu şekildedir\n",
    "    - if (Koşul 1) :\n",
    "        - yapılacak işlem veya işlemler\n",
    "    - else\n",
    "        - yapılacak işlem veya işlemler\n",
    "\n",
    "* Her if veya else bloğunun altına, yapılacak işlemler için bir tab tuşu kadar boşluk gerekmektedir. Yani işlemleri yazarken tab tuşuna basıp boşluk bırakmalısınız.\n",
    "\n",
    "* Eğer if bloğundaki koşul doğru değilse, if bloğundak işlem uygulanmaz. Bilgisayar else bloğuna geçer ve koşula bakmaksızın o işlemleri uygulamaya başlar.\n",
    "\n",
    "* Yani;"
   ]
  },
  {
   "cell_type": "code",
   "execution_count": 20,
   "id": "1cac3870-da5d-46b1-b6aa-f5dcfdc5c629",
   "metadata": {},
   "outputs": [
    {
     "name": "stdout",
     "output_type": "stream",
     "text": [
      "Ehliyet için uygun.\n"
     ]
    }
   ],
   "source": [
    "yasim = 24\n",
    "\n",
    "if yasim >= 18 :\n",
    "    print(\"Ehliyet için uygun.\")\n",
    "else :\n",
    "    print(\"Ehliyet için uygun değil.\")"
   ]
  },
  {
   "cell_type": "code",
   "execution_count": 21,
   "id": "3b0a5420-b7b7-4cf9-b794-cdab7e619448",
   "metadata": {},
   "outputs": [
    {
     "name": "stdout",
     "output_type": "stream",
     "text": [
      "Ehliyet için uygun değil.\n"
     ]
    }
   ],
   "source": [
    "yasim = 15\n",
    "\n",
    "if yasim >= 18 :\n",
    "    print(\"Ehliyet için uygun.\")\n",
    "else :\n",
    "    print(\"Ehliyet için uygun değil.\")"
   ]
  },
  {
   "cell_type": "code",
   "execution_count": 22,
   "id": "db86a52b-f6e4-417d-822b-bb11389583e3",
   "metadata": {},
   "outputs": [
    {
     "name": "stdout",
     "output_type": "stream",
     "text": [
      "Işık açık.\n"
     ]
    }
   ],
   "source": [
    "isik_durumu = True\n",
    "\n",
    "if isik_durumu :\n",
    "    print(\"Işık açık.\")\n",
    "else :\n",
    "    print(\"Işık kapalı.\")"
   ]
  },
  {
   "cell_type": "code",
   "execution_count": 23,
   "id": "29df7307-3749-4177-b22d-3cc34b2f7bfa",
   "metadata": {},
   "outputs": [
    {
     "name": "stdout",
     "output_type": "stream",
     "text": [
      "Kapı kapalı.\n"
     ]
    }
   ],
   "source": [
    "kapi_durumu = False\n",
    "\n",
    "if kapi_durumu :\n",
    "    print(\"Kapı açık.\")\n",
    "else :\n",
    "    print(\"Kapı kapalı.\")"
   ]
  },
  {
   "cell_type": "markdown",
   "id": "28dc6408-3674-4939-a29a-69a09ea8362b",
   "metadata": {},
   "source": [
    "* Bazı durumlarda 1 sayısının True yerine 0 sayısının da False yerine geçebileceğini de öğrenmiştik."
   ]
  },
  {
   "cell_type": "code",
   "execution_count": 24,
   "id": "838ab0ca-1069-4fc1-ac42-d4a2f595cae7",
   "metadata": {},
   "outputs": [
    {
     "name": "stdout",
     "output_type": "stream",
     "text": [
      "Lamba açık.\n"
     ]
    }
   ],
   "source": [
    "lamba = 1\n",
    "\n",
    "if lamba :\n",
    "    print(\"Lamba açık.\")\n",
    "else :\n",
    "    print(\"Lamba kapalı.\")"
   ]
  },
  {
   "cell_type": "code",
   "execution_count": 25,
   "id": "61d8ea94-fb48-426d-a8fa-59419a0ff548",
   "metadata": {},
   "outputs": [
    {
     "name": "stdout",
     "output_type": "stream",
     "text": [
      "Isıtıcı kapalı.\n"
     ]
    }
   ],
   "source": [
    "isitici = 0 \n",
    "\n",
    "if isitici :\n",
    "    print(\"Isıtıcı açık.\")\n",
    "else :\n",
    "    print(\"Isıtıcı kapalı.\")"
   ]
  },
  {
   "cell_type": "markdown",
   "id": "c4039898-2a33-4c2c-bf5b-d9919d1d9868",
   "metadata": {},
   "source": [
    "# Listeler (List)\n",
    "\n",
    "Listelerin kısaca formulü aşağıdaki gibidir.\n",
    "\n",
    "benim_listem = [degisken1, degisken2, .... ]\n",
    "\n",
    "Yani köşeli parantezler içine elemanları yanı değişkenlerimizi yazarız.\n",
    "Listenin elemanları 0, 1, 2, 3, 4, .... , diye gider. Yani listedeki ilk eleman 0. elemandır.\n"
   ]
  },
  {
   "cell_type": "code",
   "execution_count": 26,
   "id": "65816a6c-9565-4aa5-98dc-9e1115a8edbc",
   "metadata": {},
   "outputs": [
    {
     "name": "stdout",
     "output_type": "stream",
     "text": [
      "['Ege', 'Ada', 'Mehmet', 'Feride']\n"
     ]
    }
   ],
   "source": [
    "benim_listem = [\"Ege\", \"Ada\", \"Mehmet\", \"Feride\"]\n",
    "print(benim_listem)"
   ]
  },
  {
   "cell_type": "code",
   "execution_count": 27,
   "id": "a66db179-2f6a-4710-9c0e-5c8ff997b649",
   "metadata": {},
   "outputs": [
    {
     "name": "stdout",
     "output_type": "stream",
     "text": [
      "Ege\n"
     ]
    }
   ],
   "source": [
    "#Listenin ilk elemanı\n",
    "print(benim_listem[0])"
   ]
  },
  {
   "cell_type": "markdown",
   "id": "af3b14aa-ac7e-4b4e-a0ab-a6dc8b5cbbb2",
   "metadata": {},
   "source": [
    "Listede bir eleman aralığı seçmek istiyorsak da şöyle yaparız\n",
    "\n",
    "benim_listem[başlangıç : bitiş+1]\n",
    "\n",
    "örneğin:"
   ]
  },
  {
   "cell_type": "code",
   "execution_count": 28,
   "id": "ac80a9e1-0f1e-4789-9727-0703e647f341",
   "metadata": {},
   "outputs": [
    {
     "name": "stdout",
     "output_type": "stream",
     "text": [
      "[1, 2]\n"
     ]
    }
   ],
   "source": [
    "sayilar = [0, 1, 2, 3, 4, 5, 6, 7, 8]\n",
    "print(sayilar[1: 3])"
   ]
  },
  {
   "cell_type": "markdown",
   "id": "0791ac4b-caac-47ef-bc16-0e027fc11153",
   "metadata": {},
   "source": [
    "Gördüğünüz üzere üç sayısını almadı. Bu sefer 3 ten 6 ya kadar olan sayıları yazdıralım."
   ]
  },
  {
   "cell_type": "code",
   "execution_count": 29,
   "id": "17ca0acf-d36e-4083-a5c6-99f10a8a2d20",
   "metadata": {},
   "outputs": [
    {
     "name": "stdout",
     "output_type": "stream",
     "text": [
      "[3, 4, 5, 6]\n"
     ]
    }
   ],
   "source": [
    "print(sayilar[3:7])"
   ]
  },
  {
   "cell_type": "markdown",
   "id": "2b4122cb-2f97-420d-86d2-aa6b054a5af5",
   "metadata": {},
   "source": [
    "Diğer bir örnekte ise başlangıçtan 7 ye kadar olan sayıları alalım. Bunun için \":\" bu işaretten öncesini boş bırakmamız yeterlidir."
   ]
  },
  {
   "cell_type": "code",
   "execution_count": 30,
   "id": "f0ebd1ec-289e-495c-8332-29e15748c6d1",
   "metadata": {},
   "outputs": [
    {
     "name": "stdout",
     "output_type": "stream",
     "text": [
      "[0, 1, 2, 3, 4, 5, 6, 7]\n",
      "[0, 1, 2, 3, 4, 5, 6, 7]\n"
     ]
    }
   ],
   "source": [
    "print(sayilar[:8])\n",
    "# VEYA\n",
    "print(sayilar[0:8])"
   ]
  },
  {
   "cell_type": "markdown",
   "id": "1dd6856e-be29-41a0-a33d-820d1f927666",
   "metadata": {},
   "source": [
    "Peki ya bir sayıdan itibaren sona kadar olan yeri almak isteseydik?"
   ]
  },
  {
   "cell_type": "code",
   "execution_count": 31,
   "id": "3da40dc7-7d77-4f83-bbe8-380f33605c27",
   "metadata": {},
   "outputs": [
    {
     "name": "stdout",
     "output_type": "stream",
     "text": [
      "[3, 4, 5, 6, 7, 8]\n"
     ]
    }
   ],
   "source": [
    "print(sayilar[3:])"
   ]
  },
  {
   "cell_type": "markdown",
   "id": "62d1b0b1-3e12-4200-87d3-d6979ece7d5a",
   "metadata": {},
   "source": [
    "Bu seferde \":\" bu işaretten önce istediğimiz sayıyı yazıp, işaretten sonrasını boş bırakacaktık. Üstte gördüğümüz gibi."
   ]
  },
  {
   "cell_type": "markdown",
   "id": "e10287d8-ece9-443b-aa76-21f3d9384c89",
   "metadata": {},
   "source": [
    "Aşağıda listeler ile ilgili bazı fonksiyonları göreceğiz."
   ]
  },
  {
   "cell_type": "code",
   "execution_count": 32,
   "id": "c07c8f13-d1c8-4cf4-9b03-819aac7bc86c",
   "metadata": {},
   "outputs": [
    {
     "name": "stdout",
     "output_type": "stream",
     "text": [
      "İlk liste.\n",
      "['Kalem', 'Silgi']\n",
      "Defteri ekledik.\n",
      "['Kalem', 'Silgi', 'Defter']\n",
      "Kalemi listeden çıkardık.\n",
      "['Silgi', 'Defter']\n",
      "Listedeki ilk elemanı çıkardık.\n",
      "['Defter']\n"
     ]
    }
   ],
   "source": [
    "#Çantamdaki eşyalar:\n",
    "print(\"İlk liste.\")\n",
    "cantamdakiler = [\"Kalem\",\"Silgi\"]\n",
    "print(cantamdakiler)\n",
    "\n",
    "#Eleman ekleme\n",
    "print(\"Defteri ekledik.\")\n",
    "cantamdakiler.append(\"Defter\")\n",
    "print(cantamdakiler)\n",
    "\n",
    "#Eleman çıkarma Yöntem 1\n",
    "print(\"Kalemi listeden çıkardık.\")\n",
    "cantamdakiler.remove(\"Kalem\")\n",
    "print(cantamdakiler)\n",
    "\n",
    "#Eleman çıkarma Yöntem 2\n",
    "print(\"Listedeki ilk elemanı çıkardık.\")\n",
    "cantamdakiler.pop(0)\n",
    "print(cantamdakiler)"
   ]
  },
  {
   "cell_type": "code",
   "execution_count": 33,
   "id": "97e2915a-ba0e-4af9-bef4-09fb5ae31baa",
   "metadata": {},
   "outputs": [
    {
     "name": "stdout",
     "output_type": "stream",
     "text": [
      "['Yatak', 'Kanepe', 'Televizyon']\n",
      "['Yatak', 'Fırın', 'Kanepe', 'Televizyon']\n",
      "Evimdeki eşya sayısı:\n",
      "4\n"
     ]
    }
   ],
   "source": [
    "# Yeni bir listeyle devam edelim:\n",
    "evimdeki_esyalar = [\"Yatak\",\"Kanepe\",\"Televizyon\"]\n",
    "print(evimdeki_esyalar)\n",
    "\n",
    "# Yatak ile kanepenin arasına yeni eşya ekleyelim\n",
    "evimdeki_esyalar.insert(1, \"Fırın\")\n",
    "print(evimdeki_esyalar)\n",
    "\n",
    "# Listenin uzunluğunu bulmak için\n",
    "evimdeki_esya_sayisi = len(evimdeki_esyalar)\n",
    "print(\"Evimdeki eşya sayısı:\")\n",
    "print(evimdeki_esya_sayisi)"
   ]
  },
  {
   "cell_type": "markdown",
   "id": "cb93098d-46e8-4156-9bc2-35850535a369",
   "metadata": {},
   "source": [
    "Listelerle bazı işlemler yapalım"
   ]
  },
  {
   "cell_type": "code",
   "execution_count": 34,
   "id": "8a7ae937-6007-4327-ad92-cefe443c1dfc",
   "metadata": {},
   "outputs": [
    {
     "name": "stdout",
     "output_type": "stream",
     "text": [
      "Dağınık liste: [2, 6, 3, 7, 4, 9, 5]\n",
      "Sıralanmış liste: [2, 3, 4, 5, 6, 7, 9]\n",
      "Tersten sıralanmış liste: [9, 7, 6, 5, 4, 3, 2]\n"
     ]
    }
   ],
   "source": [
    "daginik_liste = [2, 6, 3, 7, 4, 9, 5]\n",
    "\n",
    "print(\"Dağınık liste:\",daginik_liste)\n",
    "# Üstteki listeyi başka bir değişkene kopyalıp sıralayalım\n",
    "a = daginik_liste\n",
    "a.sort()\n",
    "print(\"Sıralanmış liste:\",a)\n",
    "\n",
    "# Dagınık listeyi tersten sıralayalım\n",
    "b = daginik_liste\n",
    "b.sort()\n",
    "b.reverse()\n",
    "print(\"Tersten sıralanmış liste:\",b)"
   ]
  },
  {
   "cell_type": "code",
   "execution_count": 35,
   "id": "488a35c8-207e-4820-afde-a5b66809f917",
   "metadata": {},
   "outputs": [
    {
     "name": "stdout",
     "output_type": "stream",
     "text": [
      "Meyve sepetim: ['Elma', 'Elma', 'Elma', 'Armut', 'Armut', 'Portakal']\n",
      "Elma sayısı: 3\n"
     ]
    }
   ],
   "source": [
    "# Yeni yöntemler keşfedelim\n",
    "meyve_sepeti = [\"Elma\", \"Elma\", \"Elma\", \"Armut\", \"Armut\", \"Portakal\"]\n",
    "print(\"Meyve sepetim:\",meyve_sepeti)\n",
    "\n",
    "#  Sepetimde kaç elma var\n",
    "print(\"Elma sayısı:\",meyve_sepeti.count(\"Elma\"))"
   ]
  }
 ],
 "metadata": {
  "kernelspec": {
   "display_name": "Python 3 (ipykernel)",
   "language": "python",
   "name": "python3"
  },
  "language_info": {
   "codemirror_mode": {
    "name": "ipython",
    "version": 3
   },
   "file_extension": ".py",
   "mimetype": "text/x-python",
   "name": "python",
   "nbconvert_exporter": "python",
   "pygments_lexer": "ipython3",
   "version": "3.12.1"
  },
  "widgets": {
   "application/vnd.jupyter.widget-state+json": {
    "state": {},
    "version_major": 2,
    "version_minor": 0
   }
  }
 },
 "nbformat": 4,
 "nbformat_minor": 5
}
